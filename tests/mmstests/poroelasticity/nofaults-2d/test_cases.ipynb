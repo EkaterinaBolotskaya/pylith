{
 "cells": [
  {
   "cell_type": "code",
   "execution_count": 1,
   "id": "6ac3866e",
   "metadata": {},
   "outputs": [],
   "source": [
    "import sympy"
   ]
  },
  {
   "cell_type": "markdown",
   "id": "f4b6f80c",
   "metadata": {},
   "source": [
    "# Quasistatic Poroelasticity\n",
    "\n",
    "The governing equations are\n",
    "\n",
    "\\begin{gather}\n",
    "% Solution\n",
    "\\vec{s}^{T} = \\left(\\vec{u} \\quad p \\quad \\vec{\\epsilon}_v \\right) \\\\\n",
    "% Displacement\n",
    "\\vec{f}(\\vec{x},t) + \\nabla \\cdot \\boldsymbol{\\sigma}(\\vec{u},p) = 0 \\text{ in } \\Omega \\\\\n",
    "% Pressure\n",
    "\\frac{\\partial \\zeta(\\vec{u},p)}{\\partial t } - \\gamma(\\vec{x},t) + \\nabla \\cdot \\vec{q}(p) = 0 \\text{ in } \\Omega \\\\\n",
    "% Neumann traction\n",
    "\\boldsymbol{\\sigma} \\cdot \\vec{n} = \\vec{\\tau}(\\vec{x},t) \\text{ on } \\Gamma_{\\tau} \\\\\n",
    "% Dirichlet displacement\n",
    "\\vec{u} = \\vec{u}_{0}(\\vec{x}, t) \\text{ on } \\Gamma_{u} \\\\\n",
    "% Neumann flow\n",
    "\\vec{q} \\cdot \\vec{n} = q_{0}(\\vec{x}, t) \\text{ on } \\Gamma_{q} \\\\\n",
    "% Dirichlet pressure\n",
    "p = p_{0}(\\vec{x},t) \\text{ on } \\Gamma_{p}\n",
    "\\end{gather}\n",
    "\n",
    "where\n",
    "\n",
    "\\begin{gather}\n",
    "%\n",
    "  \\vec{q}(p) = -\\frac{\\boldsymbol{k}}{\\mu_{f}}(\\nabla p - \\vec{f}_f), \\\\\n",
    "%\n",
    "  \\zeta(\\vec{u},p) = \\alpha (\\nabla \\cdot \\vec{u}) + \\frac{p}{M}, \\\\\n",
    "%\n",
    "  \\boldsymbol{\\sigma}(\\vec{u},p) = \\boldsymbol{C}:\\boldsymbol{\\epsilon} - \\alpha p \\boldsymbol{I}\n",
    "  = \\lambda \\boldsymbol{I} \\epsilon_{v} + 2 \\mu \\boldsymbol{\\epsilon}  - \\alpha \\boldsymbol{I} p, \\\\\n",
    "\\lambda = K_{d} - \\frac{2}{3} \\mu, \\\\\n",
    "  \\frac{1}{M} = \\frac{\\alpha-\\phi}{K_s} + \\frac{\\phi}{K_f}, \\\\\n",
    "  \\alpha = 1 - \\frac{K_d}{K_f}, \\\\\n",
    "\\epsilon_{v} = \\nabla \\cdot \\vec{u},\n",
    "\\end{gather}\n",
    "\n",
    "$M$ denotes the Biot modulus, $\\alpha$ denotes the Biot coefficient, $1/M$ is the specific storage coefficient at constant strain, $K_d$ denotes the bulk modulus of the drained system, $K_s$ denotes the bulk modulus of the solid, and $K_f$ denotes the bulk modulus of the fluid, $\\mu$ denotes the shear modulus, and $\\epsilon_{v}$ denotes the volumetric strain."
   ]
  },
  {
   "cell_type": "markdown",
   "id": "f8012546",
   "metadata": {},
   "source": [
    "## Test Case: Linear Gradient in Fluid Pressure\n",
    "\n",
    "We consider a linear gradient in fluid pressure along the x direction,\n",
    "\n",
    "\\begin{equation}\n",
    "p(x) = p_0 \\left( 1 - \\frac{x}{L} \\right).\n",
    "\\end{equation}\n",
    "\n",
    "Solving for $\\vec{q}$ with $\\vec{f}_f = \\vec{0}$, we have\n",
    "\n",
    "\\begin{aligned}\n",
    "q_x &= \\frac{k}{\\mu_f} \\frac{p_0}{L}\\\\\n",
    "q_y &= 0\n",
    "\\end{aligned}\n",
    "\n",
    "Solving the elasticity equation leads to\n",
    "\n",
    "\\begin{aligned}\n",
    "u_x(x) &= -\\frac{1}{2} \\frac{\\alpha p_0}{\\lambda + 2\\mu} \\frac{x^2}{L}, \\\\\n",
    "u_y &= 0, \\\\\n",
    "\\epsilon_v &= - \\frac{\\alpha p_0}{\\lambda + 2\\mu} \\frac{x}{L}, \\\\\n",
    "\\sigma_{xx} &= -\\alpha p_0, \\\\\n",
    "\\sigma_{yy} &= -\\alpha p_0 \\left( 1 + \\frac{x}{L} \\left( 1 - \\frac{\\lambda}{\\lambda+2\\mu}\\right)\\right), \\\\\n",
    "\\sigma_{xy} &= 0.\n",
    "\\end{aligned}"
   ]
  },
  {
   "cell_type": "markdown",
   "id": "64067513",
   "metadata": {},
   "source": [
    "### Verify the analytical solution"
   ]
  },
  {
   "cell_type": "code",
   "execution_count": 18,
   "id": "b9c01bda",
   "metadata": {},
   "outputs": [],
   "source": [
    "# Define symbolic variable\n",
    "x, y = sympy.symbols(\"x, y\")\n",
    "\n",
    "# Define symbolic constants\n",
    "p0, L = sympy.symbols(\"p0, L\")\n",
    "\n",
    "# Material parameters\n",
    "λ, μ, ϕ, α, μf, k, ρb, ρf, M = sympy.symbols(\"λ, μ, ϕ, α, μf, k, ρb, ρf, M\")\n",
    "\n",
    "# Analytical solution\n",
    "ux = -0.5*α*p0 /(λ+2*μ) * x**2 / L\n",
    "uy = 0 * x\n",
    "p = p0 * (1 - x/L)\n",
    "\n",
    "# Derivatives for governing equations\n",
    "ux_x = ux.diff(x)\n",
    "ux_y = ux.diff(y)\n",
    "uy_x = uy.diff(x)\n",
    "uy_y = uy.diff(y)\n",
    "p_x = p.diff(x)\n",
    "p_y = p.diff(y)\n",
    "grad_p = sympy.Matrix([p_x, p_y])\n",
    "\n",
    "# Body force for fluid phase (assume 0)\n",
    "ff = sympy.Matrix([0., 0.])\n",
    "\n",
    "# Darcy flux; Generalized Dacy's law\n",
    "q = -(k/μf)*( grad_p + - ff)\n",
    "\n",
    "# Strain\n",
    "ϵxy = (ux_y + uy_x) / 2\n",
    "ϵ = sympy.Matrix([[ux_x, ϵxy],[ϵxy, uy_y]])\n",
    "ϵv = sympy.trace(ϵ)\n",
    "\n",
    "# Stress\n",
    "σ  = λ * ϵv * sympy.eye(2) + 2 * μ * ϵ - α * sympy.eye(2) * p\n",
    "\n",
    "# Variation of fluid content\n",
    "ζ = α * ϵv + p/M\n",
    "\n",
    "# Divergence of stress\n",
    "div_σ = sympy.Matrix([σ[0,0].diff(x) + σ[0,1].diff(y), σ[1,0].diff(x) + σ[1,1].diff(y)])\n",
    "\n",
    "# Divergence of flux\n",
    "div_q = q[0].diff(x) + q[1].diff(y)"
   ]
  },
  {
   "cell_type": "code",
   "execution_count": 19,
   "id": "5763dfae",
   "metadata": {},
   "outputs": [
    {
     "data": {
      "text/latex": [
       "$\\displaystyle \\left[\\begin{matrix}- p_{0} α & 0\\\\0 & \\frac{p_{0} α \\left(- L λ - 2 L μ + 2 x μ\\right)}{L \\left(λ + 2 μ\\right)}\\end{matrix}\\right]$"
      ],
      "text/plain": [
       "Matrix([\n",
       "[-p0*α,                                         0],\n",
       "[    0, p0*α*(-L*λ - 2*L*μ + 2*x*μ)/(L*(λ + 2*μ))]])"
      ]
     },
     "execution_count": 19,
     "metadata": {},
     "output_type": "execute_result"
    }
   ],
   "source": [
    "sympy.simplify(σ)"
   ]
  },
  {
   "cell_type": "code",
   "execution_count": 24,
   "id": "63cb3e39",
   "metadata": {},
   "outputs": [
    {
     "data": {
      "text/latex": [
       "$\\displaystyle \\left[\\begin{matrix}\\frac{k p_{0}}{L μf}\\\\0\\end{matrix}\\right]$"
      ],
      "text/plain": [
       "Matrix([\n",
       "[k*p0/(L*μf)],\n",
       "[          0]])"
      ]
     },
     "execution_count": 24,
     "metadata": {},
     "output_type": "execute_result"
    }
   ],
   "source": [
    "sympy.simplify(q)"
   ]
  },
  {
   "cell_type": "code",
   "execution_count": 25,
   "id": "1a36a6c5",
   "metadata": {},
   "outputs": [
    {
     "data": {
      "text/latex": [
       "$\\displaystyle \\left[\\begin{matrix}0\\\\0\\end{matrix}\\right]$"
      ],
      "text/plain": [
       "Matrix([\n",
       "[0],\n",
       "[0]])"
      ]
     },
     "execution_count": 25,
     "metadata": {},
     "output_type": "execute_result"
    }
   ],
   "source": [
    "sympy.simplify(div_σ)"
   ]
  },
  {
   "cell_type": "code",
   "execution_count": 27,
   "id": "ede41eb7",
   "metadata": {},
   "outputs": [
    {
     "data": {
      "text/latex": [
       "$\\displaystyle 0$"
      ],
      "text/plain": [
       "0"
      ]
     },
     "execution_count": 27,
     "metadata": {},
     "output_type": "execute_result"
    }
   ],
   "source": [
    "sympy.simplify(div_q)"
   ]
  }
 ],
 "metadata": {
  "kernelspec": {
   "display_name": "Python 3.10.10 64-bit",
   "language": "python",
   "name": "python3"
  },
  "language_info": {
   "codemirror_mode": {
    "name": "ipython",
    "version": 3
   },
   "file_extension": ".py",
   "mimetype": "text/x-python",
   "name": "python",
   "nbconvert_exporter": "python",
   "pygments_lexer": "ipython3",
   "version": "3.10.10"
  },
  "vscode": {
   "interpreter": {
    "hash": "98590ff4fe04c8543246b2a01debd3de3c5ca9b666f43f1fa87d5110c692004c"
   }
  }
 },
 "nbformat": 4,
 "nbformat_minor": 5
}
